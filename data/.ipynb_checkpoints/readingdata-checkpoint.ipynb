{
 "cells": [
  {
   "cell_type": "code",
   "execution_count": 53,
   "metadata": {
    "collapsed": false,
    "deletable": true,
    "editable": true
   },
   "outputs": [
    {
     "name": "stdout",
     "output_type": "stream",
     "text": [
      "faq_labelled_samples_V1.csv      readingdata.ipynb\r\n",
      "faq_labelled_samples_V1.numbers\r\n"
     ]
    }
   ],
   "source": [
    "%ls"
   ]
  },
  {
   "cell_type": "code",
   "execution_count": 57,
   "metadata": {
    "collapsed": true,
    "deletable": true,
    "editable": true
   },
   "outputs": [],
   "source": [
    "import pandas as pd\n",
    "import numpy as np"
   ]
  },
  {
   "cell_type": "code",
   "execution_count": 164,
   "metadata": {
    "collapsed": false,
    "deletable": true,
    "editable": true
   },
   "outputs": [],
   "source": [
    "def load_data(path='faq_labelled_samples_V1.csv'):\n",
    "    df = pd.read_csv('faq_labelled_samples_V1.csv').replace(np.nan, '', regex=True)\n",
    "    return df"
   ]
  },
  {
   "cell_type": "code",
   "execution_count": 165,
   "metadata": {
    "collapsed": true
   },
   "outputs": [],
   "source": [
    "def reformfaq(faq):\n",
    "    faq_reform ={}\n",
    "\n",
    "    tl1_list = [x.strip().strip(\"'\") for x in faq['topic_level1'].strip('[]').split(',')]\n",
    "    tl2_list = [x.strip().strip(\"'\") for x in faq['topic_level2'].strip('[]').split(',')]\n",
    "    tl3_list = [x.strip().strip(\"'\") for x in faq['topic_level3'].strip('[]').split(',')]\n",
    "    actionlist = faq[\"action\"].split(',')\n",
    "    rt = faq[\"related topic (noun)\"].split(',')\n",
    "    \n",
    "    faq_reform['question'] = faq['question']\n",
    "    #binarytag = [x.strip() for x in tl2_list + tl3_list + actionlist + rt]\n",
    "    faq_reform['binarytag'] = [x.strip() for x in tl2_list + tl3_list + actionlist + rt]\n",
    "    faq_reform['catgoricaltag'] = [faq['device']] #+ tl1_list \n",
    "    \n",
    "    return faq_reform\n",
    "\n"
   ]
  },
  {
   "cell_type": "code",
   "execution_count": 166,
   "metadata": {
    "collapsed": true
   },
   "outputs": [],
   "source": [
    "def dataschema1(df):\n",
    "    faqlist_all = df[['device', 'topic_level1', 'topic_level2', 'topic_level3',\n",
    "       'action', 'related topic (noun)', 'title', 'question', \n",
    "        'type']].to_dict('records')\n",
    "    newfaq =[reformfaq(faq) for faq in faqlist_all]\n",
    "    return newfaq\n",
    "    "
   ]
  },
  {
   "cell_type": "code",
   "execution_count": 171,
   "metadata": {
    "collapsed": false
   },
   "outputs": [
    {
     "data": {
      "text/plain": [
       "['phone',\n",
       " 'calls',\n",
       " 'message',\n",
       " 'internet&network',\n",
       " 'camera',\n",
       " 'text',\n",
       " 'data',\n",
       " 'phone',\n",
       " 'call',\n",
       " 'block call',\n",
       " 'block text',\n",
       " '']"
      ]
     },
     "execution_count": 171,
     "metadata": {},
     "output_type": "execute_result"
    }
   ],
   "source": [
    "dataraw = load_data()\n",
    "faqform = dataschema1(dataraw)"
   ]
  },
  {
   "cell_type": "code",
   "execution_count": null,
   "metadata": {
    "collapsed": true
   },
   "outputs": [],
   "source": []
  },
  {
   "cell_type": "code",
   "execution_count": null,
   "metadata": {
    "collapsed": true
   },
   "outputs": [],
   "source": [
    "def _build_vocab(self):\n",
    "    if self.hierarchical:\n",
    "        sequences = [seq for context in self.src for seq in context['cus'] + context['agent']] + self.trg\n",
    "    else:\n",
    "        sequences = self.src + self.trg\n",
    "\n",
    "    return {word for seq in sequences for word in seq.split()}\n"
   ]
  },
  {
   "cell_type": "code",
   "execution_count": null,
   "metadata": {
    "collapsed": true
   },
   "outputs": [],
   "source": [
    "return {word for seq in sequences for word in seq.split()}"
   ]
  },
  {
   "cell_type": "code",
   "execution_count": null,
   "metadata": {
    "collapsed": true
   },
   "outputs": [],
   "source": [
    "for faq in newfaq:\n",
    "    for w in faq['binarytag']:\n",
    "        if w not in tagw2i:\n",
    "            tagw2i[w] = len(tagw2i)\n",
    "            tagi2w.append(w)"
   ]
  },
  {
   "cell_type": "code",
   "execution_count": null,
   "metadata": {
    "collapsed": true
   },
   "outputs": [],
   "source": []
  },
  {
   "cell_type": "code",
   "execution_count": null,
   "metadata": {
    "collapsed": true
   },
   "outputs": [],
   "source": []
  },
  {
   "cell_type": "code",
   "execution_count": null,
   "metadata": {
    "collapsed": true
   },
   "outputs": [],
   "source": []
  },
  {
   "cell_type": "code",
   "execution_count": null,
   "metadata": {
    "collapsed": true
   },
   "outputs": [],
   "source": []
  },
  {
   "cell_type": "code",
   "execution_count": null,
   "metadata": {
    "collapsed": true
   },
   "outputs": [],
   "source": []
  },
  {
   "cell_type": "code",
   "execution_count": 59,
   "metadata": {
    "collapsed": false,
    "deletable": true,
    "editable": true
   },
   "outputs": [
    {
     "data": {
      "text/plain": [
       "Index(['Unnamed: 0', 'device', 'topic_level1', 'topic_level2', 'topic_level3',\n",
       "       'action', 'related topic (noun)', 'title', 'question', 'answer', 'type',\n",
       "       'comment', 'Unnamed: 12'],\n",
       "      dtype='object')"
      ]
     },
     "execution_count": 59,
     "metadata": {},
     "output_type": "execute_result"
    }
   ],
   "source": [
    "df.columns"
   ]
  },
  {
   "cell_type": "code",
   "execution_count": 118,
   "metadata": {
    "collapsed": false
   },
   "outputs": [
    {
     "data": {
      "text/html": [
       "<div>\n",
       "<table border=\"1\" class=\"dataframe\">\n",
       "  <thead>\n",
       "    <tr style=\"text-align: right;\">\n",
       "      <th></th>\n",
       "      <th>Unnamed: 0</th>\n",
       "      <th>device</th>\n",
       "      <th>topic_level1</th>\n",
       "      <th>topic_level2</th>\n",
       "      <th>topic_level3</th>\n",
       "      <th>action</th>\n",
       "      <th>related topic (noun)</th>\n",
       "      <th>title</th>\n",
       "      <th>question</th>\n",
       "      <th>answer</th>\n",
       "      <th>type</th>\n",
       "      <th>comment</th>\n",
       "      <th>Unnamed: 12</th>\n",
       "    </tr>\n",
       "  </thead>\n",
       "  <tbody>\n",
       "    <tr>\n",
       "      <th>0</th>\n",
       "      <td>68</td>\n",
       "      <td>no_device</td>\n",
       "      <td>['service', 'software', 'hardware']</td>\n",
       "      <td>['phone', 'calls', 'message', 'internet&amp;networ...</td>\n",
       "      <td>['text', 'data', 'phone', 'call']</td>\n",
       "      <td>block call, block text</td>\n",
       "      <td></td>\n",
       "      <td>Block texts, voice calls and data from your phone</td>\n",
       "      <td>Block texts, voice calls and data from your phone</td>\n",
       "      <td>You can control text messaging, voice calls an...</td>\n",
       "      <td>general</td>\n",
       "      <td></td>\n",
       "      <td></td>\n",
       "    </tr>\n",
       "    <tr>\n",
       "      <th>1</th>\n",
       "      <td>221</td>\n",
       "      <td>no_device</td>\n",
       "      <td>['hardware', 'software']</td>\n",
       "      <td>['sound', 'default_apps']</td>\n",
       "      <td>['rington', 'music']</td>\n",
       "      <td></td>\n",
       "      <td>sprint music plus, ringtone</td>\n",
       "      <td>Learn more about Sprint Music Plus</td>\n",
       "      <td>What are ringtones?</td>\n",
       "      <td>Ringtones are downloaded to your phone. With r...</td>\n",
       "      <td>general</td>\n",
       "      <td></td>\n",
       "      <td></td>\n",
       "    </tr>\n",
       "    <tr>\n",
       "      <th>2</th>\n",
       "      <td>925</td>\n",
       "      <td>no_device</td>\n",
       "      <td>['software', 'hardware']</td>\n",
       "      <td>['internet&amp;network', 'activate ']</td>\n",
       "      <td>['roaming', 'card', 'data']</td>\n",
       "      <td>report incidents</td>\n",
       "      <td>data roaming</td>\n",
       "      <td>Learn more about data roaming</td>\n",
       "      <td>How can I report roaming incidents that ask fo...</td>\n",
       "      <td>Sprint has roaming agreements, which cover vir...</td>\n",
       "      <td>general</td>\n",
       "      <td></td>\n",
       "      <td></td>\n",
       "    </tr>\n",
       "    <tr>\n",
       "      <th>3</th>\n",
       "      <td>1608</td>\n",
       "      <td>no_device</td>\n",
       "      <td>['service', 'software']</td>\n",
       "      <td>['plan', 'internet&amp;network']</td>\n",
       "      <td>['roaming']</td>\n",
       "      <td></td>\n",
       "      <td>sprint global roaming, international plan</td>\n",
       "      <td>FAQs about Sprint Global Roaming</td>\n",
       "      <td>Is Sprint Global Roaming combinable with other...</td>\n",
       "      <td>Sprint Global Roaming is not eligible with oth...</td>\n",
       "      <td>general</td>\n",
       "      <td></td>\n",
       "      <td></td>\n",
       "    </tr>\n",
       "    <tr>\n",
       "      <th>4</th>\n",
       "      <td>1999</td>\n",
       "      <td>no_device</td>\n",
       "      <td>['service']</td>\n",
       "      <td>['plan', 'eligible']</td>\n",
       "      <td>[]</td>\n",
       "      <td></td>\n",
       "      <td>sprint discount program, 50% off competitor plan</td>\n",
       "      <td>FAQ related to the Sprint Discount Program</td>\n",
       "      <td>Are the 50% off Competitor Plans eligiblefor c...</td>\n",
       "      <td>You may enroll in the Sprint Discount Program ...</td>\n",
       "      <td>general</td>\n",
       "      <td></td>\n",
       "      <td></td>\n",
       "    </tr>\n",
       "  </tbody>\n",
       "</table>\n",
       "</div>"
      ],
      "text/plain": [
       "   Unnamed: 0     device                         topic_level1  \\\n",
       "0          68  no_device  ['service', 'software', 'hardware']   \n",
       "1         221  no_device             ['hardware', 'software']   \n",
       "2         925  no_device             ['software', 'hardware']   \n",
       "3        1608  no_device              ['service', 'software']   \n",
       "4        1999  no_device                          ['service']   \n",
       "\n",
       "                                        topic_level2  \\\n",
       "0  ['phone', 'calls', 'message', 'internet&networ...   \n",
       "1                          ['sound', 'default_apps']   \n",
       "2                  ['internet&network', 'activate ']   \n",
       "3                       ['plan', 'internet&network']   \n",
       "4                               ['plan', 'eligible']   \n",
       "\n",
       "                        topic_level3                  action  \\\n",
       "0  ['text', 'data', 'phone', 'call']  block call, block text   \n",
       "1               ['rington', 'music']                           \n",
       "2        ['roaming', 'card', 'data']        report incidents   \n",
       "3                        ['roaming']                           \n",
       "4                                 []                           \n",
       "\n",
       "                               related topic (noun)  \\\n",
       "0                                                     \n",
       "1                       sprint music plus, ringtone   \n",
       "2                                      data roaming   \n",
       "3         sprint global roaming, international plan   \n",
       "4  sprint discount program, 50% off competitor plan   \n",
       "\n",
       "                                               title  \\\n",
       "0  Block texts, voice calls and data from your phone   \n",
       "1                 Learn more about Sprint Music Plus   \n",
       "2                      Learn more about data roaming   \n",
       "3                   FAQs about Sprint Global Roaming   \n",
       "4         FAQ related to the Sprint Discount Program   \n",
       "\n",
       "                                            question  \\\n",
       "0  Block texts, voice calls and data from your phone   \n",
       "1                                What are ringtones?   \n",
       "2  How can I report roaming incidents that ask fo...   \n",
       "3  Is Sprint Global Roaming combinable with other...   \n",
       "4  Are the 50% off Competitor Plans eligiblefor c...   \n",
       "\n",
       "                                              answer     type comment  \\\n",
       "0  You can control text messaging, voice calls an...  general           \n",
       "1  Ringtones are downloaded to your phone. With r...  general           \n",
       "2  Sprint has roaming agreements, which cover vir...  general           \n",
       "3  Sprint Global Roaming is not eligible with oth...  general           \n",
       "4  You may enroll in the Sprint Discount Program ...  general           \n",
       "\n",
       "  Unnamed: 12  \n",
       "0              \n",
       "1              \n",
       "2              \n",
       "3              \n",
       "4              "
      ]
     },
     "execution_count": 118,
     "metadata": {},
     "output_type": "execute_result"
    }
   ],
   "source": [
    "df.head(5)"
   ]
  },
  {
   "cell_type": "code",
   "execution_count": 68,
   "metadata": {
    "collapsed": true,
    "deletable": true,
    "editable": true
   },
   "outputs": [],
   "source": [
    "faqlist_all = df[['device', 'topic_level1', 'topic_level2', 'topic_level3',\n",
    "       'action', 'related topic (noun)', 'title', 'question', \n",
    "        'type']].to_dict('records')"
   ]
  },
  {
   "cell_type": "code",
   "execution_count": 61,
   "metadata": {
    "collapsed": false,
    "deletable": true,
    "editable": true
   },
   "outputs": [
    {
     "data": {
      "text/plain": [
       "184"
      ]
     },
     "execution_count": 61,
     "metadata": {},
     "output_type": "execute_result"
    }
   ],
   "source": [
    "len(faqlist)"
   ]
  },
  {
   "cell_type": "code",
   "execution_count": 62,
   "metadata": {
    "collapsed": false,
    "deletable": true,
    "editable": true
   },
   "outputs": [
    {
     "data": {
      "text/plain": [
       "{'action': 'block call, block text',\n",
       " 'question': 'Block texts, voice calls and data from your phone',\n",
       " 'related topic (noun)': nan,\n",
       " 'title': 'Block texts, voice calls and data from your phone',\n",
       " 'topic_level2': \"['phone', 'calls', 'message', 'internet&network', 'camera']\",\n",
       " 'topic_level3': \"['text', 'data', 'phone', 'call']\",\n",
       " 'type': 'general'}"
      ]
     },
     "execution_count": 62,
     "metadata": {},
     "output_type": "execute_result"
    }
   ],
   "source": [
    "faqlist[0]"
   ]
  },
  {
   "cell_type": "code",
   "execution_count": 63,
   "metadata": {
    "collapsed": false,
    "deletable": true,
    "editable": true
   },
   "outputs": [],
   "source": [
    "Question_template ={'action': 'Do you want to action_value',\n",
    "                     'device': 'What is the device type',\n",
    "                     'question': 'Are you looking for this question',\n",
    "                     'related topic (noun)': 'Do you want to know topic_value',\n",
    "                     'title': 'Are you looking for this question',\n",
    "                     'topic_level1': 'What is the topiclevel1_value', #\"['service', 'software', 'hardware']\",\n",
    "                     'topic_level2': \"['phone', 'calls', 'message', 'internet&network', 'camera']\",\n",
    "                     'topic_level3': \"['text', 'data', 'phone', 'call']\",\n",
    "                     'type': 'general'}\n"
   ]
  },
  {
   "cell_type": "code",
   "execution_count": 64,
   "metadata": {
    "collapsed": false,
    "deletable": true,
    "editable": true
   },
   "outputs": [],
   "source": [
    "Attibute_type = {'action': 'binary',\n",
    "                 'device': 'category',\n",
    "                 'question': 'binary',\n",
    "                 'related topic (noun)': 'binary',\n",
    "                 'title': 'binary',\n",
    "                 'topic_level1': 'category',\n",
    "                 'topic_level2': 'binary',\n",
    "                 'topic_level3': 'binary',\n",
    "                 'type': 'binary'}"
   ]
  },
  {
   "cell_type": "code",
   "execution_count": 65,
   "metadata": {
    "collapsed": true,
    "deletable": true,
    "editable": true
   },
   "outputs": [],
   "source": [
    "df_binary = df[['topic_level2', 'topic_level3',\n",
    "       'action', 'related topic (noun)', 'title', 'question', \n",
    "        'type']]\n",
    "faqlist = df_binary.to_dict('records')"
   ]
  },
  {
   "cell_type": "code",
   "execution_count": 93,
   "metadata": {
    "collapsed": false
   },
   "outputs": [
    {
     "data": {
      "text/plain": [
       "{'action': 'block call, block text',\n",
       " 'device': 'no_device',\n",
       " 'question': 'Block texts, voice calls and data from your phone',\n",
       " 'related topic (noun)': '',\n",
       " 'title': 'Block texts, voice calls and data from your phone',\n",
       " 'topic_level1': \"['service', 'software', 'hardware']\",\n",
       " 'topic_level2': \"['phone', 'calls', 'message', 'internet&network', 'camera']\",\n",
       " 'topic_level3': \"['text', 'data', 'phone', 'call']\",\n",
       " 'type': 'general'}"
      ]
     },
     "execution_count": 93,
     "metadata": {},
     "output_type": "execute_result"
    }
   ],
   "source": [
    "faqlist_all[0]"
   ]
  },
  {
   "cell_type": "code",
   "execution_count": 101,
   "metadata": {
    "collapsed": false
   },
   "outputs": [
    {
     "data": {
      "text/plain": [
       "['service', 'software', 'hardware']"
      ]
     },
     "execution_count": 101,
     "metadata": {},
     "output_type": "execute_result"
    }
   ],
   "source": [
    "test = faqlist_all[0]['topic_level1'].strip('[]').split(',')\n",
    "test =[x.strip().strip(\"'\") for x in test]\n",
    "test"
   ]
  },
  {
   "cell_type": "code",
   "execution_count": 130,
   "metadata": {
    "collapsed": false
   },
   "outputs": [],
   "source": [
    "\n",
    "#for faq in faqlist_all:\n",
    "def reformfaq(faq):\n",
    "    faq_reform ={}\n",
    "\n",
    "    tl1_list = [x.strip().strip(\"'\") for x in faq['topic_level1'].strip('[]').split(',')]\n",
    "    tl2_list = [x.strip().strip(\"'\") for x in faq['topic_level2'].strip('[]').split(',')]\n",
    "    tl3_list = [x.strip().strip(\"'\") for x in faq['topic_level3'].strip('[]').split(',')]\n",
    "    actionlist = faq[\"action\"].split(',')\n",
    "    rt = faq[\"related topic (noun)\"].split(',')\n",
    "    \n",
    "    faq_reform['question'] = faq['question']\n",
    "    #binarytag = [x.strip() for x in tl2_list + tl3_list + actionlist + rt]\n",
    "    faq_reform['binarytag'] = [x.strip() for x in tl2_list + tl3_list + actionlist + rt]\n",
    "    faq_reform['catgoricaltag'] = [faq['device']] #+ tl1_list \n",
    "    \n",
    "    return faq_reform\n",
    "\n",
    "newfaq =[reformfaq(faq) for faq in faqlist_all]\n"
   ]
  },
  {
   "cell_type": "code",
   "execution_count": null,
   "metadata": {
    "collapsed": false
   },
   "outputs": [],
   "source": [
    "\n"
   ]
  },
  {
   "cell_type": "code",
   "execution_count": 131,
   "metadata": {
    "collapsed": false
   },
   "outputs": [
    {
     "data": {
      "text/plain": [
       "['']"
      ]
     },
     "execution_count": 131,
     "metadata": {},
     "output_type": "execute_result"
    }
   ],
   "source": [
    "rt = faq[\"related topic (noun)\"].split(',')\n",
    "rt"
   ]
  },
  {
   "cell_type": "code",
   "execution_count": 152,
   "metadata": {
    "collapsed": false
   },
   "outputs": [
    {
     "data": {
      "text/plain": [
       "{'binarytag': ['plan',\n",
       "  'eligible',\n",
       "  '',\n",
       "  '',\n",
       "  'sprint discount program',\n",
       "  '50% off competitor plan'],\n",
       " 'catgoricaltag': ['no_device'],\n",
       " 'question': 'Are the 50% off Competitor Plans eligiblefor company/university/organization discounts through Sprint?'}"
      ]
     },
     "execution_count": 152,
     "metadata": {},
     "output_type": "execute_result"
    }
   ],
   "source": [
    "\n",
    "newfaq[4]\n"
   ]
  },
  {
   "cell_type": "code",
   "execution_count": 153,
   "metadata": {
    "collapsed": false
   },
   "outputs": [],
   "source": [
    "tagw2i ={}\n",
    "tagi2w =[]\n",
    "for faq in newfaq:\n",
    "    for w in faq['binarytag']:\n",
    "        if w not in tagw2i:\n",
    "            tagw2i[w] = len(tagw2i)\n",
    "            tagi2w.append(w)"
   ]
  },
  {
   "cell_type": "code",
   "execution_count": 154,
   "metadata": {
    "collapsed": false
   },
   "outputs": [
    {
     "data": {
      "text/plain": [
       "['', 'sound', 'default_apps', 'rington', 'music']"
      ]
     },
     "execution_count": 154,
     "metadata": {},
     "output_type": "execute_result"
    }
   ],
   "source": [
    "tagi2w[10:15]"
   ]
  },
  {
   "cell_type": "code",
   "execution_count": 155,
   "metadata": {
    "collapsed": false
   },
   "outputs": [
    {
     "data": {
      "text/plain": [
       "'sprint discount program'"
      ]
     },
     "execution_count": 155,
     "metadata": {},
     "output_type": "execute_result"
    }
   ],
   "source": [
    "tagi2w[tagw2i['sprint discount program']]"
   ]
  },
  {
   "cell_type": "code",
   "execution_count": null,
   "metadata": {
    "collapsed": true
   },
   "outputs": [],
   "source": []
  }
 ],
 "metadata": {
  "kernelspec": {
   "display_name": "Python 3",
   "language": "python",
   "name": "python3"
  },
  "language_info": {
   "codemirror_mode": {
    "name": "ipython",
    "version": 3
   },
   "file_extension": ".py",
   "mimetype": "text/x-python",
   "name": "python",
   "nbconvert_exporter": "python",
   "pygments_lexer": "ipython3",
   "version": "3.5.1"
  }
 },
 "nbformat": 4,
 "nbformat_minor": 2
}
